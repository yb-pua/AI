{
 "cells": [
  {
   "cell_type": "markdown",
   "metadata": {},
   "source": [
    "- 数据来源（近600w条数据）\n",
    "    - 抖音40天内的数据交互记录,一行数据就是一个播放记录\n",
    "    "
   ]
  },
  {
   "cell_type": "markdown",
   "metadata": {},
   "source": [
    "- 字段说明\n",
    "    - uid：用户id\n",
    "    - user_city：用户所在城市\n",
    "    - item_id：作品id\n",
    "    - author_id：作者id\n",
    "    - item_city：作品城市\n",
    "    - channel：观看到该作品的来源\n",
    "    - finish：是否浏览完作品\n",
    "    - like：是否对作品点赞\n",
    "    - music_id：音乐id\n",
    "    - device：设备id\n",
    "    - time：作品发布时间\n",
    "    - duration_time：作品时长"
   ]
  },
  {
   "cell_type": "markdown",
   "metadata": {},
   "source": [
    "- 分析目的\n",
    "    - 抖音是一个面向全年龄的音乐短视频社区平台。目前用户众多，有不少人都成为了网红，聚集了大量粉丝。在此希望能看出一些他们之间的共性，帮助后来人少走一些弯路。并结合实际观察抖音运营存的现状，提出一些建议。  \n"
   ]
  },
  {
   "cell_type": "markdown",
   "metadata": {},
   "source": [
    "- 采集到的抖音网红的相关建议，如下,我们要通过数据分析验证这些建议的真实性\n",
    "    - 1.抖音98.52%的流量都会流向算法推荐视频，获得算法推荐是获得更多播放的关键所在。  \n",
    "    - 2.最重要的始终是题材的选择，初始流量池大更容易获得算法青睐。  \n",
    "    - 3.除去题材外，投稿的最佳时间日常是在0-5点，有平台活动一定要参与。  \n",
    "    - 4.视频时长最好在7-10s，其次是0-6s及23s以内，最长也不建议超过40s。  \n",
    "    - 5.背景音乐最好选择当下最流行的歌曲。  \n"
   ]
  },
  {
   "cell_type": "code",
   "execution_count": 4,
   "metadata": {},
   "outputs": [],
   "source": [
    "import pandas as pd \n",
    "import numpy as np \n",
    "import matplotlib.pyplot as plt\n",
    "import time\n",
    "import seaborn as sns\n",
    "%matplotlib inline\n",
    "#更改设计风格\n",
    "plt.style.use('ggplot')\n",
    "plt.rcParams['font.sans-serif'] = ['SimHei']#(显示中文）\n",
    "plt.rcParams['axes.unicode_minus'] = False#(显示负数）"
   ]
  },
  {
   "cell_type": "markdown",
   "metadata": {},
   "source": [
    "### 数据清洗&预处理"
   ]
  },
  {
   "cell_type": "markdown",
   "metadata": {},
   "source": [
    "- 加载数据"
   ]
  },
  {
   "cell_type": "code",
   "execution_count": 2,
   "metadata": {},
   "outputs": [
    {
     "data": {
      "text/html": [
       "<div>\n",
       "<style scoped>\n",
       "    .dataframe tbody tr th:only-of-type {\n",
       "        vertical-align: middle;\n",
       "    }\n",
       "\n",
       "    .dataframe tbody tr th {\n",
       "        vertical-align: top;\n",
       "    }\n",
       "\n",
       "    .dataframe thead th {\n",
       "        text-align: right;\n",
       "    }\n",
       "</style>\n",
       "<table border=\"1\" class=\"dataframe\">\n",
       "  <thead>\n",
       "    <tr style=\"text-align: right;\">\n",
       "      <th></th>\n",
       "      <th>uid</th>\n",
       "      <th>user_city</th>\n",
       "      <th>item_id</th>\n",
       "      <th>author_id</th>\n",
       "      <th>item_city</th>\n",
       "      <th>channel</th>\n",
       "      <th>finish</th>\n",
       "      <th>like</th>\n",
       "      <th>music_id</th>\n",
       "      <th>device</th>\n",
       "      <th>time</th>\n",
       "      <th>duration_time</th>\n",
       "    </tr>\n",
       "  </thead>\n",
       "  <tbody>\n",
       "    <tr>\n",
       "      <th>0</th>\n",
       "      <td>18068</td>\n",
       "      <td>138</td>\n",
       "      <td>1312559</td>\n",
       "      <td>27947</td>\n",
       "      <td>23</td>\n",
       "      <td>0</td>\n",
       "      <td>1</td>\n",
       "      <td>0</td>\n",
       "      <td>-1</td>\n",
       "      <td>13717</td>\n",
       "      <td>3085992215</td>\n",
       "      <td>10</td>\n",
       "    </tr>\n",
       "    <tr>\n",
       "      <th>1</th>\n",
       "      <td>3456</td>\n",
       "      <td>-1</td>\n",
       "      <td>920393</td>\n",
       "      <td>36070</td>\n",
       "      <td>-1</td>\n",
       "      <td>1</td>\n",
       "      <td>0</td>\n",
       "      <td>0</td>\n",
       "      <td>-1</td>\n",
       "      <td>6895</td>\n",
       "      <td>3082715571</td>\n",
       "      <td>10</td>\n",
       "    </tr>\n",
       "    <tr>\n",
       "      <th>2</th>\n",
       "      <td>17128</td>\n",
       "      <td>-1</td>\n",
       "      <td>1201256</td>\n",
       "      <td>14657</td>\n",
       "      <td>11</td>\n",
       "      <td>1</td>\n",
       "      <td>1</td>\n",
       "      <td>0</td>\n",
       "      <td>-1</td>\n",
       "      <td>61358</td>\n",
       "      <td>3084094150</td>\n",
       "      <td>41</td>\n",
       "    </tr>\n",
       "    <tr>\n",
       "      <th>3</th>\n",
       "      <td>1368</td>\n",
       "      <td>81</td>\n",
       "      <td>2720842</td>\n",
       "      <td>26944</td>\n",
       "      <td>68</td>\n",
       "      <td>0</td>\n",
       "      <td>0</td>\n",
       "      <td>0</td>\n",
       "      <td>-1</td>\n",
       "      <td>1466</td>\n",
       "      <td>3086505995</td>\n",
       "      <td>10</td>\n",
       "    </tr>\n",
       "    <tr>\n",
       "      <th>4</th>\n",
       "      <td>15692</td>\n",
       "      <td>109</td>\n",
       "      <td>691661</td>\n",
       "      <td>18212</td>\n",
       "      <td>213</td>\n",
       "      <td>0</td>\n",
       "      <td>0</td>\n",
       "      <td>0</td>\n",
       "      <td>11513</td>\n",
       "      <td>540</td>\n",
       "      <td>3087035710</td>\n",
       "      <td>10</td>\n",
       "    </tr>\n",
       "  </tbody>\n",
       "</table>\n",
       "</div>"
      ],
      "text/plain": [
       "     uid  user_city  item_id  author_id  item_city  channel  finish  like  \\\n",
       "0  18068        138  1312559      27947         23        0       1     0   \n",
       "1   3456         -1   920393      36070         -1        1       0     0   \n",
       "2  17128         -1  1201256      14657         11        1       1     0   \n",
       "3   1368         81  2720842      26944         68        0       0     0   \n",
       "4  15692        109   691661      18212        213        0       0     0   \n",
       "\n",
       "   music_id  device        time  duration_time  \n",
       "0        -1   13717  3085992215             10  \n",
       "1        -1    6895  3082715571             10  \n",
       "2        -1   61358  3084094150             41  \n",
       "3        -1    1466  3086505995             10  \n",
       "4     11513     540  3087035710             10  "
      ]
     },
     "execution_count": 2,
     "metadata": {},
     "output_type": "execute_result"
    }
   ],
   "source": [
    "data = pd.read_csv('./douyin.txt')\n",
    "data.head()"
   ]
  },
  {
   "cell_type": "code",
   "execution_count": 5,
   "metadata": {},
   "outputs": [
    {
     "data": {
      "text/plain": [
       "(5886702, 12)"
      ]
     },
     "execution_count": 5,
     "metadata": {},
     "output_type": "execute_result"
    }
   ],
   "source": [
    "data.shape"
   ]
  },
  {
   "cell_type": "markdown",
   "metadata": {},
   "source": [
    "- 检测是否存在空值"
   ]
  },
  {
   "cell_type": "code",
   "execution_count": 6,
   "metadata": {},
   "outputs": [
    {
     "data": {
      "text/plain": [
       "uid              0\n",
       "user_city        0\n",
       "item_id          0\n",
       "author_id        0\n",
       "item_city        0\n",
       "channel          0\n",
       "finish           0\n",
       "like             0\n",
       "music_id         0\n",
       "device           0\n",
       "time             0\n",
       "duration_time    0\n",
       "dtype: int64"
      ]
     },
     "execution_count": 6,
     "metadata": {},
     "output_type": "execute_result"
    }
   ],
   "source": [
    "data.isnull().sum(axis=0)"
   ]
  },
  {
   "cell_type": "markdown",
   "metadata": {},
   "source": [
    "- 检测是否存在重复数据"
   ]
  },
  {
   "cell_type": "code",
   "execution_count": 7,
   "metadata": {},
   "outputs": [
    {
     "data": {
      "text/plain": [
       "4924"
      ]
     },
     "execution_count": 7,
     "metadata": {},
     "output_type": "execute_result"
    }
   ],
   "source": [
    "data.duplicated().sum()"
   ]
  },
  {
   "cell_type": "code",
   "execution_count": 8,
   "metadata": {},
   "outputs": [],
   "source": [
    "data.drop_duplicates(inplace=True)"
   ]
  },
  {
   "cell_type": "code",
   "execution_count": 9,
   "metadata": {},
   "outputs": [],
   "source": [
    "#重新设置索引\n",
    "data.reset_index(drop=True,inplace=True)"
   ]
  },
  {
   "cell_type": "markdown",
   "metadata": {},
   "source": [
    "- 数据是进行过脱敏的数据，无法观察原有情况，不过可以推断其中的-1是缺失值直接删除即可。"
   ]
  },
  {
   "cell_type": "code",
   "execution_count": 10,
   "metadata": {
    "scrolled": true
   },
   "outputs": [],
   "source": [
    "data.replace(to_replace=-1,value=np.nan,inplace=True)"
   ]
  },
  {
   "cell_type": "code",
   "execution_count": 11,
   "metadata": {
    "collapsed": true
   },
   "outputs": [
    {
     "data": {
      "text/plain": [
       "uid                    0\n",
       "user_city        1131869\n",
       "item_id                0\n",
       "author_id              0\n",
       "item_city         222116\n",
       "channel                0\n",
       "finish                 0\n",
       "like                   0\n",
       "music_id         3769681\n",
       "device                 0\n",
       "time                   0\n",
       "duration_time          0\n",
       "dtype: int64"
      ]
     },
     "execution_count": 11,
     "metadata": {},
     "output_type": "execute_result"
    }
   ],
   "source": [
    "data.isnull().sum()"
   ]
  },
  {
   "cell_type": "code",
   "execution_count": 12,
   "metadata": {},
   "outputs": [],
   "source": [
    "data.dropna(axis=0,inplace=True)\n",
    "data.reset_index(drop=True,inplace=True)"
   ]
  },
  {
   "cell_type": "code",
   "execution_count": 13,
   "metadata": {},
   "outputs": [
    {
     "data": {
      "text/plain": [
       "(1737313, 12)"
      ]
     },
     "execution_count": 13,
     "metadata": {},
     "output_type": "execute_result"
    }
   ],
   "source": [
    "data.shape"
   ]
  },
  {
   "cell_type": "markdown",
   "metadata": {},
   "source": [
    "- 原始的数据列中存在device为设备ID，这个特征于分析无意义，可以将其删除"
   ]
  },
  {
   "cell_type": "code",
   "execution_count": 14,
   "metadata": {},
   "outputs": [],
   "source": [
    "data.drop(labels='device',axis=1,inplace=True)"
   ]
  },
  {
   "cell_type": "code",
   "execution_count": 15,
   "metadata": {},
   "outputs": [
    {
     "name": "stdout",
     "output_type": "stream",
     "text": [
      "<class 'pandas.core.frame.DataFrame'>\n",
      "RangeIndex: 1737313 entries, 0 to 1737312\n",
      "Data columns (total 11 columns):\n",
      " #   Column         Dtype  \n",
      "---  ------         -----  \n",
      " 0   uid            int64  \n",
      " 1   user_city      float64\n",
      " 2   item_id        int64  \n",
      " 3   author_id      int64  \n",
      " 4   item_city      float64\n",
      " 5   channel        int64  \n",
      " 6   finish         int64  \n",
      " 7   like           int64  \n",
      " 8   music_id       float64\n",
      " 9   time           int64  \n",
      " 10  duration_time  int64  \n",
      "dtypes: float64(3), int64(8)\n",
      "memory usage: 145.8 MB\n"
     ]
    }
   ],
   "source": [
    "data.info()"
   ]
  },
  {
   "cell_type": "markdown",
   "metadata": {},
   "source": [
    "- time列是时间戳，此处修改成正常时间\n",
    "    - time.strftime(\"%Y-%m-%d %H:%M:%S\", time.localtime(1511572885))"
   ]
  },
  {
   "cell_type": "code",
   "execution_count": 13,
   "metadata": {},
   "outputs": [
    {
     "data": {
      "text/html": [
       "<div>\n",
       "<style scoped>\n",
       "    .dataframe tbody tr th:only-of-type {\n",
       "        vertical-align: middle;\n",
       "    }\n",
       "\n",
       "    .dataframe tbody tr th {\n",
       "        vertical-align: top;\n",
       "    }\n",
       "\n",
       "    .dataframe thead th {\n",
       "        text-align: right;\n",
       "    }\n",
       "</style>\n",
       "<table border=\"1\" class=\"dataframe\">\n",
       "  <thead>\n",
       "    <tr style=\"text-align: right;\">\n",
       "      <th></th>\n",
       "      <th>uid</th>\n",
       "      <th>user_city</th>\n",
       "      <th>item_id</th>\n",
       "      <th>author_id</th>\n",
       "      <th>item_city</th>\n",
       "      <th>channel</th>\n",
       "      <th>finish</th>\n",
       "      <th>like</th>\n",
       "      <th>music_id</th>\n",
       "      <th>time</th>\n",
       "      <th>duration_time</th>\n",
       "    </tr>\n",
       "  </thead>\n",
       "  <tbody>\n",
       "    <tr>\n",
       "      <th>0</th>\n",
       "      <td>15692</td>\n",
       "      <td>109.0</td>\n",
       "      <td>691661</td>\n",
       "      <td>18212</td>\n",
       "      <td>213.0</td>\n",
       "      <td>0</td>\n",
       "      <td>0</td>\n",
       "      <td>0</td>\n",
       "      <td>11513.0</td>\n",
       "      <td>3087035710</td>\n",
       "      <td>10</td>\n",
       "    </tr>\n",
       "  </tbody>\n",
       "</table>\n",
       "</div>"
      ],
      "text/plain": [
       "     uid  user_city  item_id  author_id  item_city  channel  finish  like  \\\n",
       "0  15692      109.0   691661      18212      213.0        0       0     0   \n",
       "\n",
       "   music_id        time  duration_time  \n",
       "0   11513.0  3087035710             10  "
      ]
     },
     "execution_count": 13,
     "metadata": {},
     "output_type": "execute_result"
    }
   ],
   "source": [
    "data.head(1)"
   ]
  },
  {
   "cell_type": "code",
   "execution_count": 18,
   "metadata": {},
   "outputs": [],
   "source": [
    "real_time = []\n",
    "for i in data['time']:\n",
    "    timeArray = time.localtime(i)\n",
    "    otherStyleTime = time.strftime(\"%Y-%m-%d %H:%M:%S\", timeArray)\n",
    "    real_time.append(otherStyleTime)    \n",
    "data['real_time'] = real_time"
   ]
  },
  {
   "cell_type": "code",
   "execution_count": 19,
   "metadata": {},
   "outputs": [],
   "source": [
    "data.drop(labels='time',inplace=True,axis=1)"
   ]
  },
  {
   "cell_type": "code",
   "execution_count": 20,
   "metadata": {},
   "outputs": [],
   "source": [
    "data['real_time'] = pd.to_datetime(data['real_time'])"
   ]
  },
  {
   "cell_type": "code",
   "execution_count": 21,
   "metadata": {},
   "outputs": [
    {
     "data": {
      "text/html": [
       "<div>\n",
       "<style scoped>\n",
       "    .dataframe tbody tr th:only-of-type {\n",
       "        vertical-align: middle;\n",
       "    }\n",
       "\n",
       "    .dataframe tbody tr th {\n",
       "        vertical-align: top;\n",
       "    }\n",
       "\n",
       "    .dataframe thead th {\n",
       "        text-align: right;\n",
       "    }\n",
       "</style>\n",
       "<table border=\"1\" class=\"dataframe\">\n",
       "  <thead>\n",
       "    <tr style=\"text-align: right;\">\n",
       "      <th></th>\n",
       "      <th>uid</th>\n",
       "      <th>user_city</th>\n",
       "      <th>item_id</th>\n",
       "      <th>author_id</th>\n",
       "      <th>item_city</th>\n",
       "      <th>channel</th>\n",
       "      <th>finish</th>\n",
       "      <th>like</th>\n",
       "      <th>music_id</th>\n",
       "      <th>duration_time</th>\n",
       "      <th>real_time</th>\n",
       "    </tr>\n",
       "  </thead>\n",
       "  <tbody>\n",
       "    <tr>\n",
       "      <th>0</th>\n",
       "      <td>15692</td>\n",
       "      <td>109.0</td>\n",
       "      <td>691661</td>\n",
       "      <td>18212</td>\n",
       "      <td>213.0</td>\n",
       "      <td>0</td>\n",
       "      <td>0</td>\n",
       "      <td>0</td>\n",
       "      <td>11513.0</td>\n",
       "      <td>10</td>\n",
       "      <td>2067-10-28 21:55:10</td>\n",
       "    </tr>\n",
       "    <tr>\n",
       "      <th>1</th>\n",
       "      <td>44071</td>\n",
       "      <td>80.0</td>\n",
       "      <td>1243212</td>\n",
       "      <td>34500</td>\n",
       "      <td>68.0</td>\n",
       "      <td>0</td>\n",
       "      <td>0</td>\n",
       "      <td>0</td>\n",
       "      <td>1274.0</td>\n",
       "      <td>9</td>\n",
       "      <td>2067-10-21 22:27:03</td>\n",
       "    </tr>\n",
       "    <tr>\n",
       "      <th>2</th>\n",
       "      <td>10902</td>\n",
       "      <td>202.0</td>\n",
       "      <td>3845855</td>\n",
       "      <td>634066</td>\n",
       "      <td>113.0</td>\n",
       "      <td>0</td>\n",
       "      <td>0</td>\n",
       "      <td>0</td>\n",
       "      <td>762.0</td>\n",
       "      <td>10</td>\n",
       "      <td>2067-10-26 00:38:51</td>\n",
       "    </tr>\n",
       "    <tr>\n",
       "      <th>3</th>\n",
       "      <td>25300</td>\n",
       "      <td>21.0</td>\n",
       "      <td>3929579</td>\n",
       "      <td>214923</td>\n",
       "      <td>330.0</td>\n",
       "      <td>0</td>\n",
       "      <td>0</td>\n",
       "      <td>0</td>\n",
       "      <td>2332.0</td>\n",
       "      <td>15</td>\n",
       "      <td>2067-10-25 20:36:25</td>\n",
       "    </tr>\n",
       "    <tr>\n",
       "      <th>4</th>\n",
       "      <td>3656</td>\n",
       "      <td>138.0</td>\n",
       "      <td>2572269</td>\n",
       "      <td>182680</td>\n",
       "      <td>80.0</td>\n",
       "      <td>0</td>\n",
       "      <td>0</td>\n",
       "      <td>0</td>\n",
       "      <td>238.0</td>\n",
       "      <td>9</td>\n",
       "      <td>2067-10-21 20:46:29</td>\n",
       "    </tr>\n",
       "  </tbody>\n",
       "</table>\n",
       "</div>"
      ],
      "text/plain": [
       "     uid  user_city  item_id  author_id  item_city  channel  finish  like  \\\n",
       "0  15692      109.0   691661      18212      213.0        0       0     0   \n",
       "1  44071       80.0  1243212      34500       68.0        0       0     0   \n",
       "2  10902      202.0  3845855     634066      113.0        0       0     0   \n",
       "3  25300       21.0  3929579     214923      330.0        0       0     0   \n",
       "4   3656      138.0  2572269     182680       80.0        0       0     0   \n",
       "\n",
       "   music_id  duration_time           real_time  \n",
       "0   11513.0             10 2067-10-28 21:55:10  \n",
       "1    1274.0              9 2067-10-21 22:27:03  \n",
       "2     762.0             10 2067-10-26 00:38:51  \n",
       "3    2332.0             15 2067-10-25 20:36:25  \n",
       "4     238.0              9 2067-10-21 20:46:29  "
      ]
     },
     "execution_count": 21,
     "metadata": {},
     "output_type": "execute_result"
    }
   ],
   "source": [
    "data.head()"
   ]
  },
  {
   "cell_type": "markdown",
   "metadata": {},
   "source": [
    "- 时间列中既有日期也有具体的时分秒，网红建议发布视频的时间为0-5点，则需要将小时单独从日期中抽取出来作为新的一列\n",
    "- 将年-月-日的时间也抽取出来作为新的一列"
   ]
  },
  {
   "cell_type": "code",
   "execution_count": 22,
   "metadata": {},
   "outputs": [],
   "source": [
    "data['H'] = data.real_time.dt.hour\n",
    "data['date']=data.real_time.dt.date\n",
    "#将date转换成字符串类型\n",
    "data['date'] = data.date.astype('str')"
   ]
  },
  {
   "cell_type": "code",
   "execution_count": 23,
   "metadata": {},
   "outputs": [
    {
     "data": {
      "text/html": [
       "<div>\n",
       "<style scoped>\n",
       "    .dataframe tbody tr th:only-of-type {\n",
       "        vertical-align: middle;\n",
       "    }\n",
       "\n",
       "    .dataframe tbody tr th {\n",
       "        vertical-align: top;\n",
       "    }\n",
       "\n",
       "    .dataframe thead th {\n",
       "        text-align: right;\n",
       "    }\n",
       "</style>\n",
       "<table border=\"1\" class=\"dataframe\">\n",
       "  <thead>\n",
       "    <tr style=\"text-align: right;\">\n",
       "      <th></th>\n",
       "      <th>uid</th>\n",
       "      <th>user_city</th>\n",
       "      <th>item_id</th>\n",
       "      <th>author_id</th>\n",
       "      <th>item_city</th>\n",
       "      <th>channel</th>\n",
       "      <th>finish</th>\n",
       "      <th>like</th>\n",
       "      <th>music_id</th>\n",
       "      <th>duration_time</th>\n",
       "      <th>real_time</th>\n",
       "      <th>H</th>\n",
       "      <th>date</th>\n",
       "    </tr>\n",
       "  </thead>\n",
       "  <tbody>\n",
       "    <tr>\n",
       "      <th>0</th>\n",
       "      <td>15692</td>\n",
       "      <td>109.0</td>\n",
       "      <td>691661</td>\n",
       "      <td>18212</td>\n",
       "      <td>213.0</td>\n",
       "      <td>0</td>\n",
       "      <td>0</td>\n",
       "      <td>0</td>\n",
       "      <td>11513.0</td>\n",
       "      <td>10</td>\n",
       "      <td>2067-10-28 21:55:10</td>\n",
       "      <td>21</td>\n",
       "      <td>2067-10-28</td>\n",
       "    </tr>\n",
       "    <tr>\n",
       "      <th>1</th>\n",
       "      <td>44071</td>\n",
       "      <td>80.0</td>\n",
       "      <td>1243212</td>\n",
       "      <td>34500</td>\n",
       "      <td>68.0</td>\n",
       "      <td>0</td>\n",
       "      <td>0</td>\n",
       "      <td>0</td>\n",
       "      <td>1274.0</td>\n",
       "      <td>9</td>\n",
       "      <td>2067-10-21 22:27:03</td>\n",
       "      <td>22</td>\n",
       "      <td>2067-10-21</td>\n",
       "    </tr>\n",
       "    <tr>\n",
       "      <th>2</th>\n",
       "      <td>10902</td>\n",
       "      <td>202.0</td>\n",
       "      <td>3845855</td>\n",
       "      <td>634066</td>\n",
       "      <td>113.0</td>\n",
       "      <td>0</td>\n",
       "      <td>0</td>\n",
       "      <td>0</td>\n",
       "      <td>762.0</td>\n",
       "      <td>10</td>\n",
       "      <td>2067-10-26 00:38:51</td>\n",
       "      <td>0</td>\n",
       "      <td>2067-10-26</td>\n",
       "    </tr>\n",
       "    <tr>\n",
       "      <th>3</th>\n",
       "      <td>25300</td>\n",
       "      <td>21.0</td>\n",
       "      <td>3929579</td>\n",
       "      <td>214923</td>\n",
       "      <td>330.0</td>\n",
       "      <td>0</td>\n",
       "      <td>0</td>\n",
       "      <td>0</td>\n",
       "      <td>2332.0</td>\n",
       "      <td>15</td>\n",
       "      <td>2067-10-25 20:36:25</td>\n",
       "      <td>20</td>\n",
       "      <td>2067-10-25</td>\n",
       "    </tr>\n",
       "    <tr>\n",
       "      <th>4</th>\n",
       "      <td>3656</td>\n",
       "      <td>138.0</td>\n",
       "      <td>2572269</td>\n",
       "      <td>182680</td>\n",
       "      <td>80.0</td>\n",
       "      <td>0</td>\n",
       "      <td>0</td>\n",
       "      <td>0</td>\n",
       "      <td>238.0</td>\n",
       "      <td>9</td>\n",
       "      <td>2067-10-21 20:46:29</td>\n",
       "      <td>20</td>\n",
       "      <td>2067-10-21</td>\n",
       "    </tr>\n",
       "  </tbody>\n",
       "</table>\n",
       "</div>"
      ],
      "text/plain": [
       "     uid  user_city  item_id  author_id  item_city  channel  finish  like  \\\n",
       "0  15692      109.0   691661      18212      213.0        0       0     0   \n",
       "1  44071       80.0  1243212      34500       68.0        0       0     0   \n",
       "2  10902      202.0  3845855     634066      113.0        0       0     0   \n",
       "3  25300       21.0  3929579     214923      330.0        0       0     0   \n",
       "4   3656      138.0  2572269     182680       80.0        0       0     0   \n",
       "\n",
       "   music_id  duration_time           real_time   H        date  \n",
       "0   11513.0             10 2067-10-28 21:55:10  21  2067-10-28  \n",
       "1    1274.0              9 2067-10-21 22:27:03  22  2067-10-21  \n",
       "2     762.0             10 2067-10-26 00:38:51   0  2067-10-26  \n",
       "3    2332.0             15 2067-10-25 20:36:25  20  2067-10-25  \n",
       "4     238.0              9 2067-10-21 20:46:29  20  2067-10-21  "
      ]
     },
     "execution_count": 23,
     "metadata": {},
     "output_type": "execute_result"
    }
   ],
   "source": [
    "data.head()"
   ]
  },
  {
   "cell_type": "code",
   "execution_count": 24,
   "metadata": {},
   "outputs": [
    {
     "data": {
      "text/plain": [
       "array(['2067-10-28', '2067-10-21', '2067-10-26', '2067-10-25',\n",
       "       '2067-10-22', '2067-09-24', '2067-10-27', '2067-10-18',\n",
       "       '2067-10-06', '2067-10-24', '2067-10-30', '2067-10-16',\n",
       "       '2067-10-23', '2067-10-20', '2067-10-19', '2067-10-29',\n",
       "       '2067-10-11', '2067-10-15', '2067-10-04', '2067-10-03',\n",
       "       '2067-10-07', '2067-10-01', '2067-10-09', '2067-10-17',\n",
       "       '2067-10-05', '2067-10-13', '2067-09-29', '2067-09-28',\n",
       "       '2067-10-02', '2067-10-12', '2067-10-14', '2067-09-30',\n",
       "       '2067-10-10', '2067-09-27', '2067-10-08', '2067-09-25',\n",
       "       '2067-09-23', '2067-09-22', '2067-09-26', '2067-09-21',\n",
       "       '2067-02-21'], dtype=object)"
      ]
     },
     "execution_count": 24,
     "metadata": {},
     "output_type": "execute_result"
    }
   ],
   "source": [
    "#查看不同数据date的时间范围\n",
    "data.date.unique()"
   ]
  },
  {
   "cell_type": "code",
   "execution_count": 20,
   "metadata": {},
   "outputs": [
    {
     "data": {
      "text/plain": [
       "'2067-02-21'"
      ]
     },
     "execution_count": 20,
     "metadata": {},
     "output_type": "execute_result"
    }
   ],
   "source": [
    "data.date.min()"
   ]
  },
  {
   "cell_type": "code",
   "execution_count": 25,
   "metadata": {},
   "outputs": [],
   "source": [
    "#删除2月份时间\n",
    "data.drop(labels=data.loc[data.date == '2067-02-21'].index,inplace=True)"
   ]
  },
  {
   "cell_type": "code",
   "execution_count": 26,
   "metadata": {},
   "outputs": [],
   "source": [
    "data.reset_index(drop=True,inplace=True)"
   ]
  },
  {
   "cell_type": "code",
   "execution_count": 27,
   "metadata": {},
   "outputs": [
    {
     "data": {
      "text/plain": [
       "(1737312, 13)"
      ]
     },
     "execution_count": 27,
     "metadata": {},
     "output_type": "execute_result"
    }
   ],
   "source": [
    "data.shape"
   ]
  },
  {
   "cell_type": "markdown",
   "metadata": {},
   "source": [
    "### 数据分析\n",
    "- 抖音网红视频数据分析\n",
    "    - 抖音播放量来源分布 \n",
    "    - 视频时长与点赞完播率之间的关系 \n",
    "        - 作品时长与播放量的关系  \n",
    "        - 作品时长与作品数量的关系\n",
    "        - 作品时长与完播率的关系\n",
    "        - 作品时长与点赞率的关系\n",
    "- 背景音乐与点赞完播率之间的关系\n",
    "    - 热门的音乐ID  \n",
    "    - 热门的歌曲点赞率与完播率  \n",
    "    - 热门的歌曲点赞率与完播率随时间变化的曲线  "
   ]
  },
  {
   "cell_type": "markdown",
   "metadata": {},
   "source": [
    "- 抖音播放量来源分布 "
   ]
  },
  {
   "cell_type": "code",
   "execution_count": 31,
   "metadata": {},
   "outputs": [
    {
     "data": {
      "text/plain": [
       "channel\n",
       "0    1710980\n",
       "2          2\n",
       "3      25358\n",
       "4        972\n",
       "Name: uid, dtype: int64"
      ]
     },
     "execution_count": 31,
     "metadata": {},
     "output_type": "execute_result"
    }
   ],
   "source": [
    "channel = data.groupby(by='channel').count()['uid']\n",
    "channel"
   ]
  },
  {
   "cell_type": "markdown",
   "metadata": {},
   "source": [
    "- 结论1： 虽然没有明确说明，但作为算法驱动的短视频平台，显然可知“0”是算法推荐的视频。那么在抖音获得播放量的关键就是获得算法推荐进入更大的流量池。"
   ]
  },
  {
   "cell_type": "markdown",
   "metadata": {},
   "source": [
    "- 作品时长与播放量的关系"
   ]
  },
  {
   "cell_type": "code",
   "execution_count": 32,
   "metadata": {},
   "outputs": [
    {
     "data": {
      "text/plain": [
       "Text(0.5, 1.0, '作品时长与播放量的关系')"
      ]
     },
     "execution_count": 32,
     "metadata": {},
     "output_type": "execute_result"
    },
    {
     "data": {
      "image/png": "[encoded data removed]",
      "text/plain": [
       "<Figure size 432x288 with 1 Axes>"
      ]
     },
     "metadata": {},
     "output_type": "display_data"
    }
   ],
   "source": [
    "item_duration = data.groupby(by='duration_time').count()['uid']\n",
    "plt.plot(item_duration)\n",
    "plt.xlim(2,40)\n",
    "plt.xlabel('作品时长')\n",
    "plt.ylabel('播放量')\n",
    "plt.title(\"作品时长与播放量的关系\")"
   ]
  },
  {
   "cell_type": "markdown",
   "metadata": {},
   "source": [
    "- 作品时长与作品数量的关系"
   ]
  },
  {
   "cell_type": "code",
   "execution_count": 33,
   "metadata": {},
   "outputs": [
    {
     "data": {
      "text/plain": [
       "Text(0.5, 1.0, '作品时长与作品数量的关系')"
      ]
     },
     "execution_count": 33,
     "metadata": {},
     "output_type": "execute_result"
    },
    {
     "data": {
      "image/png": "[encoded data removed]",
      "text/plain": [
       "<Figure size 432x288 with 1 Axes>"
      ]
     },
     "metadata": {},
     "output_type": "display_data"
    }
   ],
   "source": [
    "duration_nums = data.groupby('duration_time')['item_id'].nunique()\n",
    "plt.plot(duration_nums)\n",
    "plt.xlim(2,40)\n",
    "plt.xlabel('作品时长')\n",
    "plt.ylabel('作品数量')\n",
    "plt.title(\"作品时长与作品数量的关系\")"
   ]
  },
  {
   "cell_type": "markdown",
   "metadata": {},
   "source": [
    "- 作品时长与完播率的关系\n",
    "    - 完播率和点赞率可以用不同播放时长的作品对应的完播和点赞的均值表示\n"
   ]
  },
  {
   "cell_type": "code",
   "execution_count": 34,
   "metadata": {},
   "outputs": [
    {
     "data": {
      "text/plain": [
       "Text(0.5, 1.0, '作品时长与完播率的关系')"
      ]
     },
     "execution_count": 34,
     "metadata": {},
     "output_type": "execute_result"
    },
    {
     "data": {
      "image/png": "[encoded data removed]",
      "text/plain": [
       "<Figure size 432x288 with 1 Axes>"
      ]
     },
     "metadata": {},
     "output_type": "display_data"
    }
   ],
   "source": [
    "finish_p = data.groupby('duration_time')['finish'].mean()\n",
    "plt.plot(finish_p)\n",
    "plt.xlim(2,100)\n",
    "plt.xlabel('作品时长')\n",
    "plt.ylabel('完播率')\n",
    "plt.title(\"作品时长与完播率的关系\")"
   ]
  },
  {
   "cell_type": "markdown",
   "metadata": {},
   "source": [
    "- 作品时长与点赞率的关系"
   ]
  },
  {
   "cell_type": "code",
   "execution_count": 35,
   "metadata": {},
   "outputs": [
    {
     "data": {
      "text/plain": [
       "Text(0.5, 1.0, '作品时长与点赞率的关系')"
      ]
     },
     "execution_count": 35,
     "metadata": {},
     "output_type": "execute_result"
    },
    {
     "data": {
      "image/png": "[encoded data removed]",
      "text/plain": [
       "<Figure size 432x288 with 1 Axes>"
      ]
     },
     "metadata": {},
     "output_type": "display_data"
    }
   ],
   "source": [
    "like_p = data.groupby('duration_time')['like'].mean()\n",
    "plt.plot(like_p)\n",
    "plt.xlim(2,40)\n",
    "plt.xlabel('作品时长')\n",
    "plt.ylabel('点赞率')\n",
    "plt.title(\"作品时长与点赞率的关系\")"
   ]
  },
  {
   "cell_type": "markdown",
   "metadata": {},
   "source": [
    "- 观察结果：\n",
    "    - 作品绝大多数分布在7-10s中，总体来说在0s-22s之间都有一定数量的投稿，22s以上的就很少了。\n",
    "    - 播放量的分布基本与作品数量相同。\n",
    "    - 完播率在2s-40s内总体在40%以上，40s以后开始剧烈波动，因此作品时长应该设置在40s之内比较稳妥\n",
    "    - 点赞率在2s-10s内基本维持在1%之内，在12s-20s之间会在0.7%-1.1%之间波动，在20s以后数据变化的波动完全没有规律。"
   ]
  },
  {
   "cell_type": "markdown",
   "metadata": {},
   "source": [
    "- 结论2： \n",
    "    - 视频时长最好在7-10s，其次是0-6s及23s以内，最长也不建议超过40s"
   ]
  },
  {
   "cell_type": "markdown",
   "metadata": {},
   "source": [
    "- 作品发布时间（小时）与点赞完播率之间的关系"
   ]
  },
  {
   "cell_type": "code",
   "execution_count": 36,
   "metadata": {},
   "outputs": [
    {
     "data": {
      "text/plain": [
       "Text(0.5, 1.0, '作品发布时间与点赞完播率之间的关系')"
      ]
     },
     "execution_count": 36,
     "metadata": {},
     "output_type": "execute_result"
    },
    {
     "data": {
      "image/png": "[encoded data removed]",
      "text/plain": [
       "<Figure size 432x288 with 1 Axes>"
      ]
     },
     "metadata": {},
     "output_type": "display_data"
    }
   ],
   "source": [
    "H_f_l = data.groupby('H')[['finish','like']].mean()\n",
    "H_f_l.plot()\n",
    "plt.title(\"作品发布时间与点赞完播率之间的关系\")"
   ]
  },
  {
   "cell_type": "markdown",
   "metadata": {},
   "source": [
    "- 发布作品时间和播放量之间的关系"
   ]
  },
  {
   "cell_type": "code",
   "execution_count": 37,
   "metadata": {},
   "outputs": [
    {
     "data": {
      "text/plain": [
       "[<matplotlib.lines.Line2D at 0x120241160>]"
      ]
     },
     "execution_count": 37,
     "metadata": {},
     "output_type": "execute_result"
    },
    {
     "data": {
      "image/png": "[encoded data removed]",
      "text/plain": [
       "<Figure size 432x288 with 1 Axes>"
      ]
     },
     "metadata": {},
     "output_type": "display_data"
    }
   ],
   "source": [
    "time_play_s = data.groupby('H')['uid'].count()\n",
    "plt.plot(time_play_s)"
   ]
  },
  {
   "cell_type": "markdown",
   "metadata": {},
   "source": [
    "- 24小时内用户投稿（发布作品）数量的变化\n",
    "    - 关注大多数用户都是什么时间投稿（考虑去重）"
   ]
  },
  {
   "cell_type": "code",
   "execution_count": 38,
   "metadata": {},
   "outputs": [
    {
     "data": {
      "text/plain": [
       "[<matplotlib.lines.Line2D at 0x11f6c1cf8>]"
      ]
     },
     "execution_count": 38,
     "metadata": {},
     "output_type": "execute_result"
    },
    {
     "data": {
      "image/png": "[encoded data removed]",
      "text/plain": [
       "<Figure size 432x288 with 1 Axes>"
      ]
     },
     "metadata": {},
     "output_type": "display_data"
    }
   ],
   "source": [
    "public_item_s = data.groupby('H')['item_id'].nunique()\n",
    "plt.plot(public_item_s)"
   ]
  },
  {
   "cell_type": "markdown",
   "metadata": {},
   "source": [
    "- 放在一起观察"
   ]
  },
  {
   "cell_type": "markdown",
   "metadata": {},
   "source": [
    "- 结论3： \n",
    "    - 不同时间段内发布的作品点赞率和完播率不会有太大变化，整体播放量和投稿数也基本相同这说明播放量和投稿时间关系亦不大，不过还是可以看出0-5点的播放量会略高。\n",
    "    - 如果投稿最佳时间是在0-5点，但并无特殊优势。"
   ]
  },
  {
   "cell_type": "markdown",
   "metadata": {},
   "source": [
    "- 背景音乐播放量之间的关系\n",
    "     - 查找被作品使用次数最多的前10首音乐id\n",
    "     - 查看10首音乐id的播放量是否是最高的"
   ]
  },
  {
   "cell_type": "code",
   "execution_count": 41,
   "metadata": {},
   "outputs": [
    {
     "data": {
      "text/plain": [
       "music_id\n",
       "22.0     51627\n",
       "220.0    41412\n",
       "25.0     27837\n",
       "68.0     22365\n",
       "110.0    21087\n",
       "33.0     17543\n",
       "468.0    17179\n",
       "57.0     13347\n",
       "43.0     13197\n",
       "238.0    12563\n",
       "Name: uid, dtype: int64"
      ]
     },
     "execution_count": 41,
     "metadata": {},
     "output_type": "execute_result"
    }
   ],
   "source": [
    "music_play_s = data.groupby(by='music_id')['uid'].count().sort_values(ascending=False)\n",
    "top_10_music = music_play_s.iloc[:10]\n",
    "top_10_music"
   ]
  },
  {
   "cell_type": "code",
   "execution_count": 42,
   "metadata": {},
   "outputs": [
    {
     "data": {
      "text/plain": [
       "[<matplotlib.lines.Line2D at 0x11f7b92e8>]"
      ]
     },
     "execution_count": 42,
     "metadata": {},
     "output_type": "execute_result"
    },
    {
     "data": {
      "image/png": "[encoded data removed]",
      "text/plain": [
       "<Figure size 432x288 with 1 Axes>"
      ]
     },
     "metadata": {},
     "output_type": "display_data"
    }
   ],
   "source": [
    "plt.plot(top_10_music.index.astype('str'),top_10_music.values)"
   ]
  },
  {
   "cell_type": "markdown",
   "metadata": {},
   "source": [
    "- 结论4： 对于视频配乐更推荐当时最火的歌曲，会比其他歌曲更容易获得高播放量。"
   ]
  }
 ],
 "metadata": {
  "kernelspec": {
   "display_name": "Python 3",
   "language": "python",
   "name": "python3"
  },
  "language_info": {
   "codemirror_mode": {
    "name": "ipython",
    "version": 3
   },
   "file_extension": ".py",
   "mimetype": "text/x-python",
   "name": "python",
   "nbconvert_exporter": "python",
   "pygments_lexer": "ipython3",
   "version": "3.7.1"
  }
 },
 "nbformat": 4,
 "nbformat_minor": 2
}
